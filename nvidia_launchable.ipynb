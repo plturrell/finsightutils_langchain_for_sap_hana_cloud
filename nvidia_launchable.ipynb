{
 "cells": [
  {
   "cell_type": "markdown",
   "metadata": {},
   "source": [
    "# SAP HANA Cloud LangChain Integration with GPU Acceleration\n",
    "\n",
    "This notebook guides you through setting up and using the SAP HANA Cloud LangChain Integration with NVIDIA GPU acceleration and TensorRT optimization."
   ]
  },
  {
   "cell_type": "markdown",
   "metadata": {},
   "source": [
    "## Authentication and Setup\n",
    "\n",
    "This section guides you through authenticating with NVIDIA NGC and setting up the container."
   ]
  },
  {
   "cell_type": "markdown",
   "metadata": {},
   "source": [
    "### Step 1: Install and Configure NGC CLI\n",
    "\n",
    "Download and set up the NGC CLI for authenticating with the NGC registry:"
   ]
  },
  {
   "cell_type": "code",
   "execution_count": null,
   "metadata": {},
   "outputs": [],
   "source": [
    "!wget -O ngccli.zip https://ngc.nvidia.com/downloads/ngccli_linux.zip\n",
    "!unzip -o ngccli.zip\n",
    "!chmod u+x ngc-cli/ngc\n",
    "# Add NGC CLI to PATH\n",
    "import os\n",
    "os.environ['PATH'] = os.environ['PATH'] + ':' + os.getcwd() + '/ngc-cli'"
   ]
  },
  {
   "cell_type": "markdown",
   "metadata": {},
   "source": [
    "**Important**: You need to get your NGC API key from https://ngc.nvidia.com/setup/api-key\n",
    "\n",
    "Once you have your API key, configure the NGC CLI:"
   ]
  },
  {
   "cell_type": "code",
   "execution_count": null,
   "metadata": {},
   "outputs": [],
   "source": [
    "# Replace YOUR_API_KEY with your actual NGC API key\n",
    "# !mkdir -p ~/.ngc\n",
    "# !echo 'ApiKey=YOUR_API_KEY' > ~/.ngc/config\n",
    "\n",
    "# Instead of hardcoding the API key, you can configure it interactively:\n",
    "print(\"Please run the following command in a terminal and follow the prompts:\")\n",
    "print(\"ngc config set\")"
   ]
  },
  {
   "cell_type": "markdown",
   "metadata": {},
   "source": [
    "### Step 2: Log in to Docker with NGC Credentials"
   ]
  },
  {
   "cell_type": "code",
   "execution_count": null,
   "metadata": {},
   "outputs": [],
   "source": [
    "print(\"Please run the following command in a terminal and follow the prompts:\")\n",
    "print(\"docker login nvcr.io\")"
   ]
  },
  {
   "cell_type": "markdown",
   "metadata": {},
   "source": [
    "### Step 3: Pull the Container Image"
   ]
  },
  {
   "cell_type": "code",
   "execution_count": null,
   "metadata": {},
   "outputs": [],
   "source": [
    "!docker pull nvcr.io/plturrell/sap-enhanced/langchain-hana-gpu:latest"
   ]
  },
  {
   "cell_type": "markdown",
   "metadata": {},
   "source": [
    "### Step 4: Configure SAP HANA Cloud Connection\n",
    "\n",
    "Create a `.env` file with your SAP HANA Cloud credentials:"
   ]
  },
  {
   "cell_type": "code",
   "execution_count": null,
   "metadata": {},
   "outputs": [],
   "source": [
    "%%writefile .env\n",
    "# SAP HANA Cloud credentials\n",
    "HANA_HOST=your-hana-host.hanacloud.ondemand.com\n",
    "HANA_PORT=443\n",
    "HANA_USER=your_username\n",
    "HANA_PASSWORD=your_password\n",
    "\n",
    "# GPU Configuration\n",
    "GPU_ENABLED=true\n",
    "USE_TENSORRT=true\n",
    "TENSORRT_PRECISION=fp16"
   ]
  },
  {
   "cell_type": "markdown",
   "metadata": {},
   "source": [
    "**Important**: Replace the placeholder values with your actual SAP HANA Cloud credentials."
   ]
  },
  {
   "cell_type": "markdown",
   "metadata": {},
   "source": [
    "### Step 5: Run the Container\n",
    "\n",
    "Start the container with GPU support:"
   ]
  },
  {
   "cell_type": "code",
   "execution_count": null,
   "metadata": {},
   "outputs": [],
   "source": [
    "# Run in background\n",
    "!docker run -d --name langchain-hana-gpu --gpus all -p 8000:8000 \\\n",
    "  --env-file .env \\\n",
    "  nvcr.io/plturrell/sap-enhanced/langchain-hana-gpu:latest"
   ]
  },
  {
   "cell_type": "markdown",
   "metadata": {},
   "source": [
    "Check if the container is running:"
   ]
  },
  {
   "cell_type": "code",
   "execution_count": null,
   "metadata": {},
   "outputs": [],
   "source": [
    "!docker ps | grep langchain-hana-gpu"
   ]
  },
  {
   "cell_type": "markdown",
   "metadata": {},
   "source": [
    "View container logs:"
   ]
  },
  {
   "cell_type": "code",
   "execution_count": null,
   "metadata": {},
   "outputs": [],
   "source": [
    "!docker logs langchain-hana-gpu"
   ]
  },
  {
   "cell_type": "markdown",
   "metadata": {},
   "source": [
    "## Testing the API\n",
    "\n",
    "Now that the API is running, let's test its functionality."
   ]
  },
  {
   "cell_type": "markdown",
   "metadata": {},
   "source": [
    "### Check GPU Information\n",
    "\n",
    "Get information about available GPUs:"
   ]
  },
  {
   "cell_type": "code",
   "execution_count": null,
   "metadata": {},
   "outputs": [],
   "source": [
    "!curl http://localhost:8000/benchmark/gpu_info"
   ]
  },
  {
   "cell_type": "markdown",
   "metadata": {},
   "source": [
    "### Run TensorRT Benchmark\n",
    "\n",
    "Benchmark TensorRT vs PyTorch performance:"
   ]
  },
  {
   "cell_type": "code",
   "execution_count": null,
   "metadata": {},
   "outputs": [],
   "source": [
    "%%writefile benchmark_request.json\n",
    "{\n",
    "  \"model_name\": \"all-MiniLM-L6-v2\",\n",
    "  \"precision\": \"fp16\",\n",
    "  \"batch_sizes\": [1, 8, 32, 64],\n",
    "  \"input_length\": 128,\n",
    "  \"iterations\": 10\n",
    "}"
   ]
  },
  {
   "cell_type": "code",
   "execution_count": null,
   "metadata": {},
   "outputs": [],
   "source": [
    "!curl -X POST \"http://localhost:8000/benchmark/tensorrt\" \\\n",
    "  -H \"Content-Type: application/json\" \\\n",
    "  -d @benchmark_request.json"
   ]
  },
  {
   "cell_type": "markdown",
   "metadata": {},
   "source": [
    "### Create Vector Store\n",
    "\n",
    "Add documents to the vector store:"
   ]
  },
  {
   "cell_type": "code",
   "execution_count": null,
   "metadata": {},
   "outputs": [],
   "source": [
    "%%writefile add_texts_request.json\n",
    "{\n",
    "  \"texts\": [\n",
    "    \"NVIDIA is a technology company known for GPUs and AI.\",\n",
    "    \"SAP HANA is an in-memory database for enterprise applications.\",\n",
    "    \"LangChain is a framework for building LLM-powered applications.\",\n",
    "    \"TensorRT is an SDK for high-performance deep learning inference.\"\n",
    "  ],\n",
    "  \"metadatas\": [\n",
    "    {\"source\": \"nvidia\", \"category\": \"company\"},\n",
    "    {\"source\": \"sap\", \"category\": \"database\"},\n",
    "    {\"source\": \"langchain\", \"category\": \"framework\"},\n",
    "    {\"source\": \"nvidia\", \"category\": \"sdk\"}\n",
    "  ],\n",
    "  \"table_name\": \"DEMO_VECTORS\"\n",
    "}"
   ]
  },
  {
   "cell_type": "code",
   "execution_count": null,
   "metadata": {},
   "outputs": [],
   "source": [
    "!curl -X POST \"http://localhost:8000/texts\" \\\n",
    "  -H \"Content-Type: application/json\" \\\n",
    "  -d @add_texts_request.json"
   ]
  },
  {
   "cell_type": "markdown",
   "metadata": {},
   "source": [
    "### Query Vector Store\n",
    "\n",
    "Search for similar documents:"
   ]
  },
  {
   "cell_type": "code",
   "execution_count": null,
   "metadata": {},
   "outputs": [],
   "source": [
    "%%writefile query_request.json\n",
    "{\n",
    "  \"query\": \"AI and deep learning tools\",\n",
    "  \"k\": 2,\n",
    "  \"table_name\": \"DEMO_VECTORS\"\n",
    "}"
   ]
  },
  {
   "cell_type": "code",
   "execution_count": null,
   "metadata": {},
   "outputs": [],
   "source": [
    "!curl -X POST \"http://localhost:8000/query\" \\\n",
    "  -H \"Content-Type: application/json\" \\\n",
    "  -d @query_request.json"
   ]
  },
  {
   "cell_type": "markdown",
   "metadata": {},
   "source": [
    "### MMR Search with GPU Acceleration\n",
    "\n",
    "Perform a Maximal Marginal Relevance search:"
   ]
  },
  {
   "cell_type": "code",
   "execution_count": null,
   "metadata": {},
   "outputs": [],
   "source": [
    "%%writefile mmr_request.json\n",
    "{\n",
    "  \"query\": \"NVIDIA technologies\",\n",
    "  \"k\": 2,\n",
    "  \"fetch_k\": 3,\n",
    "  \"lambda_mult\": 0.5,\n",
    "  \"table_name\": \"DEMO_VECTORS\"\n",
    "}"
   ]
  },
  {
   "cell_type": "code",
   "execution_count": null,
   "metadata": {},
   "outputs": [],
   "source": [
    "!curl -X POST \"http://localhost:8000/query/mmr\" \\\n",
    "  -H \"Content-Type: application/json\" \\\n",
    "  -d @mmr_request.json"
   ]
  },
  {
   "cell_type": "markdown",
   "metadata": {},
   "source": [
    "## Cleanup\n",
    "\n",
    "Stop and remove the container when done:"
   ]
  },
  {
   "cell_type": "code",
   "execution_count": null,
   "metadata": {},
   "outputs": [],
   "source": [
    "!docker stop langchain-hana-gpu\n",
    "!docker rm langchain-hana-gpu"
   ]
  },
  {
   "cell_type": "markdown",
   "metadata": {},
   "source": [
    "## Troubleshooting\n",
    "\n",
    "If you encounter issues with the container or GPU acceleration, try the following:"
   ]
  },
  {
   "cell_type": "code",
   "execution_count": null,
   "metadata": {},
   "outputs": [],
   "source": [
    "# Check NVIDIA driver and CUDA installation\n",
    "!nvidia-smi\n",
    "!nvcc --version"
   ]
  },
  {
   "cell_type": "code",
   "execution_count": null,
   "metadata": {},
   "outputs": [],
   "source": [
    "# Test GPU access from Docker\n",
    "!docker run --gpus all --rm nvidia/cuda:11.8.0-base-ubuntu22.04 nvidia-smi"
   ]
  },
  {
   "cell_type": "code",
   "execution_count": null,
   "metadata": {},
   "outputs": [],
   "source": [
    "# Check container logs for detailed error messages\n",
    "!docker logs langchain-hana-gpu"
   ]
  },
  {
   "cell_type": "markdown",
   "metadata": {},
   "source": [
    "## Learn More\n",
    "\n",
    "For more information, refer to:\n",
    "- [GitHub Repository](https://github.com/plturrell/langchain-integration-for-sap-hana-cloud)\n",
    "- [VM Setup Guide](https://github.com/plturrell/langchain-integration-for-sap-hana-cloud/blob/main/docs/vm_setup_guide.md)\n",
    "- [NVIDIA TensorRT Documentation](https://developer.nvidia.com/tensorrt)\n",
    "- [SAP HANA Cloud Documentation](https://help.sap.com/docs/hana-cloud)"
   ]
  }
 ],
 "metadata": {
  "kernelspec": {
   "display_name": "Python 3",
   "language": "python",
   "name": "python3"
  },
  "language_info": {
   "codemirror_mode": {
    "name": "ipython",
    "version": 3
   },
   "file_extension": ".py",
   "mimetype": "text/x-python",
   "name": "python",
   "nbconvert_exporter": "python",
   "pygments_lexer": "ipython3",
   "version": "3.10.12"
  }
 },
 "nbformat": 4,
 "nbformat_minor": 4
}