{
 "cells": [
  {
   "cell_type": "markdown",
   "metadata": {},
   "source": [
    "# SAP HANA Cloud Vector Store API Client Example\n",
    "\n",
    "This notebook demonstrates how to use the SAP HANA Cloud Vector Store API for various operations."
   ]
  },
  {
   "cell_type": "code",
   "execution_count": null,
   "metadata": {},
   "source": [
    "import json\n",
    "import requests\n",
    "import numpy as np\n",
    "import pandas as pd\n",
    "from typing import Dict, List, Optional, Any\n",
    "\n",
    "# API base URL\n",
    "BASE_URL = \"http://localhost:8000\""
   ]
  },
  {
   "cell_type": "markdown",
   "metadata": {},
   "source": [
    "## Health Check\n",
    "\n",
    "First, let's check if the API is running and connected to the database."
   ]
  },
  {
   "cell_type": "code",
   "execution_count": null,
   "metadata": {},
   "source": [
    "response = requests.get(f\"{BASE_URL}/health\")\n",
    "print(f\"Status Code: {response.status_code}\")\n",
    "response.json()"
   ]
  },
  {
   "cell_type": "markdown",
   "metadata": {},
   "source": [
    "## Adding Documents\n",
    "\n",
    "Let's add some sample documents to the vector store."
   ]
  },
  {
   "cell_type": "code",
   "execution_count": null,
   "metadata": {},
   "source": [
    "# Sample documents\n",
    "texts = [\n",
    "    \"SAP HANA Cloud is a cloud-based database management system.\",\n",
    "    \"Vector search enables semantic similarity searches.\",\n",
    "    \"LangChain is a framework for building LLM-powered applications.\",\n",
    "    \"Integration allows SAP HANA Cloud to be used as a vector store in LangChain.\",\n",
    "    \"SAP HANA Cloud Vector Engine provides high-performance vector search capabilities.\"\n",
    "]\n",
    "\n",
    "# Metadata for the documents\n",
    "metadatas = [\n",
    "    {\"source\": \"docs\", \"topic\": \"database\", \"category\": \"product\"},\n",
    "    {\"source\": \"docs\", \"topic\": \"search\", \"category\": \"technology\"},\n",
    "    {\"source\": \"docs\", \"topic\": \"framework\", \"category\": \"technology\"},\n",
    "    {\"source\": \"docs\", \"topic\": \"integration\", \"category\": \"guide\"},\n",
    "    {\"source\": \"docs\", \"topic\": \"vector_engine\", \"category\": \"feature\"}\n",
    "]\n",
    "\n",
    "# Create request payload\n",
    "payload = {\n",
    "    \"texts\": texts,\n",
    "    \"metadatas\": metadatas\n",
    "}\n",
    "\n",
    "# Send the request\n",
    "response = requests.post(f\"{BASE_URL}/texts\", json=payload)\n",
    "print(f\"Status Code: {response.status_code}\")\n",
    "response.json()"
   ]
  },
  {
   "cell_type": "markdown",
   "metadata": {},
   "source": [
    "## Querying by Text\n",
    "\n",
    "Now let's query the vector store by text."
   ]
  },
  {
   "cell_type": "code",
   "execution_count": null,
   "metadata": {},
   "source": [
    "query_payload = {\n",
    "    \"query\": \"How does SAP HANA Cloud work with LangChain?\",\n",
    "    \"k\": 3,\n",
    "    \"filter\": {\"source\": \"docs\"}\n",
    "}\n",
    "\n",
    "response = requests.post(f\"{BASE_URL}/query\", json=query_payload)\n",
    "print(f\"Status Code: {response.status_code}\")\n",
    "results = response.json()\n",
    "\n",
    "# Display results in a DataFrame\n",
    "result_data = []\n",
    "for item in results['results']:\n",
    "    result_data.append({\n",
    "        \"content\": item['document']['page_content'],\n",
    "        \"score\": item['score'],\n",
    "        **item['document']['metadata']\n",
    "    })\n",
    "\n",
    "pd.DataFrame(result_data)"
   ]
  },
  {
   "cell_type": "markdown",
   "metadata": {},
   "source": [
    "## Filtering by Metadata\n",
    "\n",
    "Let's try a query with more complex filtering."
   ]
  },
  {
   "cell_type": "code",
   "execution_count": null,
   "metadata": {},
   "source": [
    "query_payload = {\n",
    "    \"query\": \"SAP HANA Cloud features\",\n",
    "    \"k\": 2,\n",
    "    \"filter\": {\n",
    "        \"$or\": [\n",
    "            {\"category\": \"product\"},\n",
    "            {\"category\": \"feature\"}\n",
    "        ]\n",
    "    }\n",
    "}\n",
    "\n",
    "response = requests.post(f\"{BASE_URL}/query\", json=query_payload)\n",
    "print(f\"Status Code: {response.status_code}\")\n",
    "results = response.json()\n",
    "\n",
    "# Display results in a DataFrame\n",
    "result_data = []\n",
    "for item in results['results']:\n",
    "    result_data.append({\n",
    "        \"content\": item['document']['page_content'],\n",
    "        \"score\": item['score'],\n",
    "        **item['document']['metadata']\n",
    "    })\n",
    "\n",
    "pd.DataFrame(result_data)"
   ]
  },
  {
   "cell_type": "markdown",
   "metadata": {},
   "source": [
    "## Max Marginal Relevance (MMR) Search\n",
    "\n",
    "Let's try an MMR search to get diverse results."
   ]
  },
  {
   "cell_type": "code",
   "execution_count": null,
   "metadata": {},
   "source": [
    "mmr_payload = {\n",
    "    \"query\": \"SAP HANA Cloud\",\n",
    "    \"k\": 3,\n",
    "    \"fetch_k\": 5,\n",
    "    \"lambda_mult\": 0.7\n",
    "}\n",
    "\n",
    "response = requests.post(f\"{BASE_URL}/query/mmr\", json=mmr_payload)\n",
    "print(f\"Status Code: {response.status_code}\")\n",
    "results = response.json()\n",
    "\n",
    "# Display results in a DataFrame\n",
    "result_data = []\n",
    "for item in results['results']:\n",
    "    result_data.append({\n",
    "        \"content\": item['document']['page_content'],\n",
    "        **item['document']['metadata']\n",
    "    })\n",
    "\n",
    "pd.DataFrame(result_data)"
   ]
  },
  {
   "cell_type": "markdown",
   "metadata": {},
   "source": [
    "## Deleting Documents\n",
    "\n",
    "Finally, let's delete some documents by filter."
   ]
  },
  {
   "cell_type": "code",
   "execution_count": null,
   "metadata": {},
   "source": [
    "delete_payload = {\n",
    "    \"filter\": {\"category\": \"technology\"}\n",
    "}\n",
    "\n",
    "response = requests.post(f\"{BASE_URL}/delete\", json=delete_payload)\n",
    "print(f\"Status Code: {response.status_code}\")\n",
    "response.json()"
   ]
  },
  {
   "cell_type": "markdown",
   "metadata": {},
   "source": [
    "## Verify Deletion\n",
    "\n",
    "Let's query again to verify the documents were deleted."
   ]
  },
  {
   "cell_type": "code",
   "execution_count": null,
   "metadata": {},
   "source": [
    "query_payload = {\n",
    "    \"query\": \"technology\",\n",
    "    \"k\": 5\n",
    "}\n",
    "\n",
    "response = requests.post(f\"{BASE_URL}/query\", json=query_payload)\n",
    "print(f\"Status Code: {response.status_code}\")\n",
    "results = response.json()\n",
    "\n",
    "# Display results in a DataFrame\n",
    "result_data = []\n",
    "for item in results['results']:\n",
    "    result_data.append({\n",
    "        \"content\": item['document']['page_content'],\n",
    "        \"score\": item['score'],\n",
    "        **item['document']['metadata']\n",
    "    })\n",
    "\n",
    "pd.DataFrame(result_data)"
   ]
  }
 ],
 "metadata": {
  "kernelspec": {
   "display_name": "Python 3",
   "language": "python",
   "name": "python3"
  },
  "language_info": {
   "codemirror_mode": {
    "name": "ipython",
    "version": 3
   },
   "file_extension": ".py",
   "mimetype": "text/x-python",
   "name": "python",
   "nbconvert_exporter": "python",
   "pygments_lexer": "ipython3",
   "version": "3.9.16"
  }
 },
 "nbformat": 4,
 "nbformat_minor": 4
}